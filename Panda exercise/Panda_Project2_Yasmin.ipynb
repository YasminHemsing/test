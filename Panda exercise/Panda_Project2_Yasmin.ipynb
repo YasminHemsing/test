{
 "cells": [
  {
   "cell_type": "markdown",
   "source": [
    "# Pandas Project 2\n",
    "Generate a Report manually (without reporting libraries) about an input csv file using pandas.\n",
    "input file : \"my_data.csv\"\n"
   ],
   "metadata": {
    "collapsed": false
   },
   "id": "4410e78bbc5bf1c8"
  },
  {
   "cell_type": "code",
   "outputs": [
    {
     "name": "stdout",
     "output_type": "stream",
     "text": [
      "Current working directory: C:\\WBS\\Python\\Module 6\\02_Pandas\\Tag2\n",
      "<class 'pandas.core.frame.DataFrame'>\n",
      "RangeIndex: 186850 entries, 0 to 186849\n",
      "Data columns (total 6 columns):\n",
      " #   Column            Non-Null Count   Dtype \n",
      "---  ------            --------------   ----- \n",
      " 0   Order ID          186305 non-null  object\n",
      " 1   Product           186305 non-null  object\n",
      " 2   Quantity Ordered  186305 non-null  object\n",
      " 3   Price Each        186305 non-null  object\n",
      " 4   Order Date        186305 non-null  object\n",
      " 5   Purchase Address  186305 non-null  object\n",
      "dtypes: object(6)\n",
      "memory usage: 8.6+ MB\n",
      "None\n"
     ]
    }
   ],
   "source": [
    "import pandas as pd\n",
    "import os\n",
    "\n",
    "print(\"Current working directory:\", os.getcwd())\n",
    "\n",
    "csv_file_path = os.path.join(\"Panda\", \"my_data.csv\")\n",
    "\n",
    "if not os.path.exists(csv_file_path):\n",
    "    print(f\"File not found: {csv_file_path}\")\n",
    "else:\n",
    "    df = pd.read_csv(csv_file_path)\n",
    "    print(df.info())"
   ],
   "metadata": {
    "collapsed": false,
    "ExecuteTime": {
     "end_time": "2024-05-16T12:48:00.522100400Z",
     "start_time": "2024-05-16T12:48:00.157353900Z"
    }
   },
   "id": "631126ca60d7a0f4",
   "execution_count": 28
  },
  {
   "cell_type": "markdown",
   "source": [
    "### How many columns ? and data types?"
   ],
   "metadata": {
    "collapsed": false
   },
   "id": "718cf26ab9b7cd33"
  },
  {
   "cell_type": "code",
   "outputs": [
    {
     "name": "stdout",
     "output_type": "stream",
     "text": [
      "This Dataframe has: 6 rows.\n",
      "\n",
      "Datatypes: \n",
      "object\n"
     ]
    },
    {
     "name": "stderr",
     "output_type": "stream",
     "text": [
      "C:\\Users\\yasmi\\AppData\\Local\\Temp\\ipykernel_2388\\2128123594.py:6: FutureWarning: Series.__getitem__ treating keys as positions is deprecated. In a future version, integer keys will always be treated as labels (consistent with DataFrame behavior). To access a value by position, use `ser.iloc[pos]`\n",
      "  print(df.dtypes[1]) # datatypes\n"
     ]
    }
   ],
   "source": [
    "columns = df.shape[1] # count of columns\n",
    "\n",
    "print(\"This Dataframe has:\", columns, \"rows.\")\n",
    "print()\n",
    "print(\"Datatypes: \")\n",
    "print(df.dtypes[1]) # datatypes"
   ],
   "metadata": {
    "collapsed": false,
    "ExecuteTime": {
     "end_time": "2024-05-16T12:39:18.568739300Z",
     "start_time": "2024-05-16T12:39:18.553551400Z"
    }
   },
   "id": "7b349ac90c9c053d",
   "execution_count": 8
  },
  {
   "cell_type": "markdown",
   "source": [
    "### How many rows ?"
   ],
   "metadata": {
    "collapsed": false
   },
   "id": "bf64a5aca9ec759"
  },
  {
   "cell_type": "code",
   "outputs": [],
   "source": [],
   "metadata": {
    "collapsed": false,
    "ExecuteTime": {
     "end_time": "2024-05-16T12:39:18.569743200Z",
     "start_time": "2024-05-16T12:39:18.563709600Z"
    }
   },
   "id": "4fb16c4e8ce9152f",
   "execution_count": 8
  },
  {
   "cell_type": "code",
   "outputs": [
    {
     "name": "stdout",
     "output_type": "stream",
     "text": [
      "This dataframe has 186850 rows.\n"
     ]
    }
   ],
   "source": [
    "rows = df.shape[0] # count of rows\n",
    "print(f\"This dataframe has\", rows, \"rows.\")"
   ],
   "metadata": {
    "collapsed": false,
    "ExecuteTime": {
     "end_time": "2024-05-16T12:39:18.633180500Z",
     "start_time": "2024-05-16T12:39:18.571739600Z"
    }
   },
   "id": "4975e347419a0873",
   "execution_count": 9
  },
  {
   "cell_type": "markdown",
   "source": [],
   "metadata": {
    "collapsed": false
   },
   "id": "60555dffe3b1fb88"
  },
  {
   "cell_type": "markdown",
   "source": [
    "### How many NAN Values ?"
   ],
   "metadata": {
    "collapsed": false
   },
   "id": "bc91b4830a596e3c"
  },
  {
   "cell_type": "code",
   "outputs": [
    {
     "data": {
      "text/plain": "3270"
     },
     "execution_count": 10,
     "metadata": {},
     "output_type": "execute_result"
    }
   ],
   "source": [
    "df.isnull().sum().sum()"
   ],
   "metadata": {
    "collapsed": false,
    "ExecuteTime": {
     "end_time": "2024-05-16T12:39:18.668721700Z",
     "start_time": "2024-05-16T12:39:18.581483500Z"
    }
   },
   "id": "3900b6245062751e",
   "execution_count": 10
  },
  {
   "cell_type": "markdown",
   "source": [],
   "metadata": {
    "collapsed": false
   },
   "id": "e71d2e3b74160b7b"
  },
  {
   "cell_type": "markdown",
   "source": [
    "### How many duplicated rows?"
   ],
   "metadata": {
    "collapsed": false
   },
   "id": "7de2d98c0b66bfc3"
  },
  {
   "cell_type": "code",
   "outputs": [
    {
     "data": {
      "text/plain": "1162"
     },
     "execution_count": 11,
     "metadata": {},
     "output_type": "execute_result"
    }
   ],
   "source": [
    "df.duplicated().sum()"
   ],
   "metadata": {
    "collapsed": false,
    "ExecuteTime": {
     "end_time": "2024-05-16T12:39:18.871299500Z",
     "start_time": "2024-05-16T12:39:18.630875Z"
    }
   },
   "id": "6137e9a07d2bf35a",
   "execution_count": 11
  },
  {
   "cell_type": "markdown",
   "source": [],
   "metadata": {
    "collapsed": false
   },
   "id": "753ce18d0965f95c"
  },
  {
   "cell_type": "markdown",
   "source": [
    "### The output file \"report.txt\" should saved\"\"\""
   ],
   "metadata": {
    "collapsed": false
   },
   "id": "d6905ed6ff06d711"
  },
  {
   "cell_type": "code",
   "outputs": [
    {
     "name": "stderr",
     "output_type": "stream",
     "text": [
      "C:\\Users\\yasmi\\AppData\\Local\\Temp\\ipykernel_2388\\4180187231.py:16: FutureWarning: Series.__getitem__ treating keys as positions is deprecated. In a future version, integer keys will always be treated as labels (consistent with DataFrame behavior). To access a value by position, use `ser.iloc[pos]`\n",
      "  \"Datatype\": str(self.df.dtypes[1]),\n"
     ]
    }
   ],
   "source": [
    "import pandas as pd\n",
    "import csv\n",
    "#import os\n",
    "#from pathlib import Path.chdir(Path(__file__).parent)\n",
    "\n",
    "\n",
    "class Csv():\n",
    "\n",
    "    def __init__(self, csv):\n",
    "        self.csv = csv\n",
    "        self.df = pd.read_csv(self.csv)\n",
    "\n",
    "    def write_csv(self):\n",
    "        result_dict = {\n",
    "            \"Columns\": self.df.shape[1],\n",
    "            \"Datatype\": str(self.df.dtypes[1]),\n",
    "            \"Rows\": self.df.shape[0],\n",
    "            \"Sum of NAN Values\": self.df.isnull().sum().sum(),\n",
    "            \"Sum of duplicated rows\": self.df.duplicated().sum()\n",
    "        }\n",
    "\n",
    "        with open(\"report.csv\", 'w', newline='', encoding=\"UTF-8\") as file:\n",
    "            writer = csv.writer(file)\n",
    "            for key, value in result_dict.items():\n",
    "                writer.writerow([key, value])\n",
    "                \n",
    "\n",
    "\n",
    "mydata = Csv(\"./my_data.csv\")\n",
    "# print(mydata.df)\n",
    "mydata.write_csv()\n"
   ],
   "metadata": {
    "collapsed": false,
    "ExecuteTime": {
     "end_time": "2024-05-16T12:41:31.518025100Z",
     "start_time": "2024-05-16T12:41:30.898892100Z"
    }
   },
   "id": "2bb18295872453d4",
   "execution_count": 15
  },
  {
   "cell_type": "code",
   "outputs": [],
   "source": [
    "import pandas as pd\n",
    "import csv\n",
    "\n",
    "class Csv:\n",
    "    def __init__(self, csv_file):\n",
    "        self.csv = csv_file\n",
    "        self.df = pd.read_csv(self.csv)\n",
    "\n",
    "    def write_csv(self):\n",
    "        result_dict = {\n",
    "            \"Columns\": self.df.shape[1],\n",
    "            \"Datatype\": str(self.df.dtypes.iloc[1]),\n",
    "            \"Rows\": self.df.shape[0],\n",
    "            \"Sum of NAN Values\": self.df.isnull().sum().sum(),\n",
    "            \"Sum of duplicated rows\": self.df.duplicated().sum()\n",
    "        }\n",
    "\n",
    "        with open(\"report.csv\", 'w', newline='', encoding=\"UTF-8\") as file:\n",
    "            writer = csv.writer(file)\n",
    "            for key, value in result_dict.items():\n",
    "                writer.writerow([key, value])\n",
    "\n",
    "# Usage\n",
    "mydata = Csv(\"./my_data.csv\")\n",
    "# print(mydata.df)\n",
    "mydata.write_csv()\n"
   ],
   "metadata": {
    "collapsed": false,
    "ExecuteTime": {
     "end_time": "2024-05-16T12:41:43.770679100Z",
     "start_time": "2024-05-16T12:41:42.653050600Z"
    }
   },
   "id": "9e41023df6bd2376",
   "execution_count": 16
  }
 ],
 "metadata": {
  "kernelspec": {
   "display_name": "Python 3",
   "language": "python",
   "name": "python3"
  },
  "language_info": {
   "codemirror_mode": {
    "name": "ipython",
    "version": 2
   },
   "file_extension": ".py",
   "mimetype": "text/x-python",
   "name": "python",
   "nbconvert_exporter": "python",
   "pygments_lexer": "ipython2",
   "version": "2.7.6"
  }
 },
 "nbformat": 4,
 "nbformat_minor": 5
}
